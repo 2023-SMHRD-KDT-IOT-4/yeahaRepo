{
 "cells": [
  {
   "cell_type": "code",
   "execution_count": 1,
   "id": "9fa9a159",
   "metadata": {},
   "outputs": [],
   "source": [
    "import requests\n",
    "import pandas as pd"
   ]
  },
  {
   "cell_type": "code",
   "execution_count": null,
   "id": "915a7108",
   "metadata": {},
   "outputs": [],
   "source": [
    "# API 키\n",
    "\n",
    "\n",
    "# 요청 URL\n",
    "url = \"https://openapi.foodsafetykorea.go.kr/api/c04e1228e93f4cc4a2e3/I-0050/json/1/331\"\n",
    "\n",
    "# 요청 보내기\n",
    "response = requests.get(url)\n",
    "\n",
    "# 응답 데이터(JSON) 가져오기\n",
    "data = response.json()\n",
    "\n",
    "# 데이터프레임 생성\n",
    "df3 = pd.DataFrame(data['I-0050']['row'])\n",
    "\n",
    "# 데이터프레임 출력\n",
    "print(df3)"
   ]
  },
  {
   "cell_type": "code",
   "execution_count": null,
   "id": "b19ed9b9",
   "metadata": {},
   "outputs": [],
   "source": [
    "df3"
   ]
  },
  {
   "cell_type": "code",
   "execution_count": null,
   "id": "71809d99",
   "metadata": {},
   "outputs": [],
   "source": [
    "df3.to_csv(\"./건강기능식품개별인정형정보.csv\", index=False)"
   ]
  },
  {
   "cell_type": "code",
   "execution_count": null,
   "id": "76ec8753",
   "metadata": {},
   "outputs": [],
   "source": [
    "df"
   ]
  },
  {
   "cell_type": "code",
   "execution_count": null,
   "id": "b30a06d5",
   "metadata": {},
   "outputs": [],
   "source": [
    "url = 'https://openapi.foodsafetykorea.go.kr/api/c04e1228e93f4cc4a2e3/I0760/json/1/585'\n",
    "\n",
    "# GET 요청 보내기\n",
    "response = requests.get(url)\n",
    "\n",
    "# 응답의 상태 코드 확인 (200은 성공을 의미)\n",
    "if response.status_code == 200:\n",
    "    # JSON 형식의 데이터 추출\n",
    "    json_data = response.json()\n",
    "    \n",
    "    # 데이터 출력\n",
    "    print(json_data)\n",
    "else:\n",
    "    print('요청에 실패했습니다. 상태 코드:', response.status_code)"
   ]
  },
  {
   "cell_type": "code",
   "execution_count": null,
   "id": "540c34c3",
   "metadata": {},
   "outputs": [],
   "source": [
    "\n",
    "\n",
    "# API 키\n",
    "api_key = \"c04e1228e93f4cc4a2e3\"\n",
    "\n",
    "# 요청 URL\n",
    "url = f\"https://openapi.foodsafetykorea.go.kr/api/{api_key}/I0760/json/1/585\"\n",
    "\n",
    "# 요청 보내기\n",
    "response = requests.get(url)\n",
    "\n",
    "# 응답 데이터(JSON) 가져오기\n",
    "data = response.json()\n",
    "\n",
    "# 데이터프레임 생성\n",
    "df = pd.DataFrame(data['I0760']['row'])\n",
    "\n",
    "# 데이터프레임 출력\n",
    "print(df)"
   ]
  },
  {
   "cell_type": "code",
   "execution_count": null,
   "id": "042caf8f",
   "metadata": {},
   "outputs": [],
   "source": [
    "df"
   ]
  },
  {
   "cell_type": "code",
   "execution_count": null,
   "id": "bd4181f6",
   "metadata": {},
   "outputs": [],
   "source": [
    "# API 키\n",
    "api_key = \"c04e1228e93f4cc4a2e3\"\n",
    "\n",
    "# 요청 URL\n",
    "url = f\"https://openapi.foodsafetykorea.go.kr/api/{api_key}/I2710/json/1/431\"\n",
    "\n",
    "# 요청 보내기\n",
    "response = requests.get(url)\n",
    "\n",
    "# 응답 데이터(JSON) 가져오기\n",
    "data = response.json()\n",
    "\n",
    "# 데이터프레임 생성\n",
    "df2 = pd.DataFrame(data['I2710']['row'])\n",
    "\n",
    "# 데이터프레임 출력\n",
    "print(df2)"
   ]
  },
  {
   "cell_type": "code",
   "execution_count": null,
   "id": "5fe6e74f",
   "metadata": {},
   "outputs": [],
   "source": [
    "df2"
   ]
  },
  {
   "cell_type": "code",
   "execution_count": null,
   "id": "c6e0c88a",
   "metadata": {},
   "outputs": [],
   "source": [
    "df.to_csv(\"./건강기능식품영양.csv\", index=False)\n",
    "df2.to_csv(\"./건강기능식품개별인정형정보.csv\", index=False)"
   ]
  },
  {
   "cell_type": "code",
   "execution_count": null,
   "id": "f4eea017",
   "metadata": {
    "scrolled": false
   },
   "outputs": [],
   "source": [
    "df2_c = df2[['효능','이름']]"
   ]
  },
  {
   "cell_type": "code",
   "execution_count": null,
   "id": "7b59147a",
   "metadata": {},
   "outputs": [],
   "source": [
    "df[['HELT_ITM_GRP_NM','HELT_ITM_GRP_CD']]"
   ]
  },
  {
   "cell_type": "code",
   "execution_count": null,
   "id": "0f1b077c",
   "metadata": {},
   "outputs": [],
   "source": [
    "df3_c = df3[['효능','이름']]"
   ]
  },
  {
   "cell_type": "code",
   "execution_count": null,
   "id": "f439d8b2",
   "metadata": {},
   "outputs": [],
   "source": [
    "df2_c\n",
    "df3_c"
   ]
  },
  {
   "cell_type": "code",
   "execution_count": null,
   "id": "3047a27c",
   "metadata": {},
   "outputs": [],
   "source": [
    "df2[['효능']] = df2[['PRIMARY_FNCLTY']]\n",
    "df2[['이름']] = df2[['PRDCT_NM']]"
   ]
  },
  {
   "cell_type": "code",
   "execution_count": null,
   "id": "a2c4195f",
   "metadata": {},
   "outputs": [],
   "source": [
    "df3[['효능']] = df3[['PRIMARY_FNCLTY']]\n",
    "df3[['이름']] = df3[['RAWMTRL_NM']]"
   ]
  },
  {
   "cell_type": "code",
   "execution_count": null,
   "id": "6a38e6ca",
   "metadata": {},
   "outputs": [],
   "source": [
    "df4 = pd.merge(df2_c, df3_c,how = 'outer')"
   ]
  },
  {
   "cell_type": "code",
   "execution_count": null,
   "id": "ad52ca57",
   "metadata": {},
   "outputs": [],
   "source": [
    "df4.to_csv(\"./이름_효능_합본.csv\", index=False)"
   ]
  },
  {
   "cell_type": "code",
   "execution_count": null,
   "id": "f4113498",
   "metadata": {},
   "outputs": [],
   "source": [
    "df4.to_json('./이름_효능_합본5.json', orient = 'index', indent = 4)"
   ]
  },
  {
   "cell_type": "code",
   "execution_count": null,
   "id": "83e0941b",
   "metadata": {},
   "outputs": [],
   "source": [
    "df4"
   ]
  },
  {
   "cell_type": "code",
   "execution_count": 10,
   "id": "0dceb267",
   "metadata": {},
   "outputs": [
    {
     "ename": "JSONDecodeError",
     "evalue": "Expecting value: line 1 column 1 (char 0)",
     "output_type": "error",
     "traceback": [
      "\u001b[1;31m---------------------------------------------------------------------------\u001b[0m",
      "\u001b[1;31mJSONDecodeError\u001b[0m                           Traceback (most recent call last)",
      "File \u001b[1;32m~\\anaconda3\\Lib\\site-packages\\requests\\models.py:971\u001b[0m, in \u001b[0;36mResponse.json\u001b[1;34m(self, **kwargs)\u001b[0m\n\u001b[0;32m    970\u001b[0m \u001b[38;5;28;01mtry\u001b[39;00m:\n\u001b[1;32m--> 971\u001b[0m     \u001b[38;5;28;01mreturn\u001b[39;00m complexjson\u001b[38;5;241m.\u001b[39mloads(\u001b[38;5;28mself\u001b[39m\u001b[38;5;241m.\u001b[39mtext, \u001b[38;5;241m*\u001b[39m\u001b[38;5;241m*\u001b[39mkwargs)\n\u001b[0;32m    972\u001b[0m \u001b[38;5;28;01mexcept\u001b[39;00m JSONDecodeError \u001b[38;5;28;01mas\u001b[39;00m e:\n\u001b[0;32m    973\u001b[0m     \u001b[38;5;66;03m# Catch JSON-related errors and raise as requests.JSONDecodeError\u001b[39;00m\n\u001b[0;32m    974\u001b[0m     \u001b[38;5;66;03m# This aliases json.JSONDecodeError and simplejson.JSONDecodeError\u001b[39;00m\n",
      "File \u001b[1;32m~\\anaconda3\\Lib\\json\\__init__.py:346\u001b[0m, in \u001b[0;36mloads\u001b[1;34m(s, cls, object_hook, parse_float, parse_int, parse_constant, object_pairs_hook, **kw)\u001b[0m\n\u001b[0;32m    343\u001b[0m \u001b[38;5;28;01mif\u001b[39;00m (\u001b[38;5;28mcls\u001b[39m \u001b[38;5;129;01mis\u001b[39;00m \u001b[38;5;28;01mNone\u001b[39;00m \u001b[38;5;129;01mand\u001b[39;00m object_hook \u001b[38;5;129;01mis\u001b[39;00m \u001b[38;5;28;01mNone\u001b[39;00m \u001b[38;5;129;01mand\u001b[39;00m\n\u001b[0;32m    344\u001b[0m         parse_int \u001b[38;5;129;01mis\u001b[39;00m \u001b[38;5;28;01mNone\u001b[39;00m \u001b[38;5;129;01mand\u001b[39;00m parse_float \u001b[38;5;129;01mis\u001b[39;00m \u001b[38;5;28;01mNone\u001b[39;00m \u001b[38;5;129;01mand\u001b[39;00m\n\u001b[0;32m    345\u001b[0m         parse_constant \u001b[38;5;129;01mis\u001b[39;00m \u001b[38;5;28;01mNone\u001b[39;00m \u001b[38;5;129;01mand\u001b[39;00m object_pairs_hook \u001b[38;5;129;01mis\u001b[39;00m \u001b[38;5;28;01mNone\u001b[39;00m \u001b[38;5;129;01mand\u001b[39;00m \u001b[38;5;129;01mnot\u001b[39;00m kw):\n\u001b[1;32m--> 346\u001b[0m     \u001b[38;5;28;01mreturn\u001b[39;00m _default_decoder\u001b[38;5;241m.\u001b[39mdecode(s)\n\u001b[0;32m    347\u001b[0m \u001b[38;5;28;01mif\u001b[39;00m \u001b[38;5;28mcls\u001b[39m \u001b[38;5;129;01mis\u001b[39;00m \u001b[38;5;28;01mNone\u001b[39;00m:\n",
      "File \u001b[1;32m~\\anaconda3\\Lib\\json\\decoder.py:337\u001b[0m, in \u001b[0;36mJSONDecoder.decode\u001b[1;34m(self, s, _w)\u001b[0m\n\u001b[0;32m    333\u001b[0m \u001b[38;5;250m\u001b[39m\u001b[38;5;124;03m\"\"\"Return the Python representation of ``s`` (a ``str`` instance\u001b[39;00m\n\u001b[0;32m    334\u001b[0m \u001b[38;5;124;03mcontaining a JSON document).\u001b[39;00m\n\u001b[0;32m    335\u001b[0m \n\u001b[0;32m    336\u001b[0m \u001b[38;5;124;03m\"\"\"\u001b[39;00m\n\u001b[1;32m--> 337\u001b[0m obj, end \u001b[38;5;241m=\u001b[39m \u001b[38;5;28mself\u001b[39m\u001b[38;5;241m.\u001b[39mraw_decode(s, idx\u001b[38;5;241m=\u001b[39m_w(s, \u001b[38;5;241m0\u001b[39m)\u001b[38;5;241m.\u001b[39mend())\n\u001b[0;32m    338\u001b[0m end \u001b[38;5;241m=\u001b[39m _w(s, end)\u001b[38;5;241m.\u001b[39mend()\n",
      "File \u001b[1;32m~\\anaconda3\\Lib\\json\\decoder.py:355\u001b[0m, in \u001b[0;36mJSONDecoder.raw_decode\u001b[1;34m(self, s, idx)\u001b[0m\n\u001b[0;32m    354\u001b[0m \u001b[38;5;28;01mexcept\u001b[39;00m \u001b[38;5;167;01mStopIteration\u001b[39;00m \u001b[38;5;28;01mas\u001b[39;00m err:\n\u001b[1;32m--> 355\u001b[0m     \u001b[38;5;28;01mraise\u001b[39;00m JSONDecodeError(\u001b[38;5;124m\"\u001b[39m\u001b[38;5;124mExpecting value\u001b[39m\u001b[38;5;124m\"\u001b[39m, s, err\u001b[38;5;241m.\u001b[39mvalue) \u001b[38;5;28;01mfrom\u001b[39;00m \u001b[38;5;28;01mNone\u001b[39;00m\n\u001b[0;32m    356\u001b[0m \u001b[38;5;28;01mreturn\u001b[39;00m obj, end\n",
      "\u001b[1;31mJSONDecodeError\u001b[0m: Expecting value: line 1 column 1 (char 0)",
      "\nDuring handling of the above exception, another exception occurred:\n",
      "\u001b[1;31mJSONDecodeError\u001b[0m                           Traceback (most recent call last)",
      "Cell \u001b[1;32mIn[10], line 11\u001b[0m\n\u001b[0;32m      8\u001b[0m response \u001b[38;5;241m=\u001b[39m requests\u001b[38;5;241m.\u001b[39mget(url)\n\u001b[0;32m     10\u001b[0m \u001b[38;5;66;03m# 응답 데이터(JSON) 가져오기\u001b[39;00m\n\u001b[1;32m---> 11\u001b[0m data7 \u001b[38;5;241m=\u001b[39m response\u001b[38;5;241m.\u001b[39mjson()\n\u001b[0;32m     13\u001b[0m \u001b[38;5;66;03m# 데이터프레임 생성\u001b[39;00m\n\u001b[0;32m     14\u001b[0m df7 \u001b[38;5;241m=\u001b[39m pd\u001b[38;5;241m.\u001b[39mDataFrame(data7[\u001b[38;5;124m'\u001b[39m\u001b[38;5;124mC003\u001b[39m\u001b[38;5;124m'\u001b[39m][\u001b[38;5;124m'\u001b[39m\u001b[38;5;124mrow\u001b[39m\u001b[38;5;124m'\u001b[39m])\n",
      "File \u001b[1;32m~\\anaconda3\\Lib\\site-packages\\requests\\models.py:975\u001b[0m, in \u001b[0;36mResponse.json\u001b[1;34m(self, **kwargs)\u001b[0m\n\u001b[0;32m    971\u001b[0m     \u001b[38;5;28;01mreturn\u001b[39;00m complexjson\u001b[38;5;241m.\u001b[39mloads(\u001b[38;5;28mself\u001b[39m\u001b[38;5;241m.\u001b[39mtext, \u001b[38;5;241m*\u001b[39m\u001b[38;5;241m*\u001b[39mkwargs)\n\u001b[0;32m    972\u001b[0m \u001b[38;5;28;01mexcept\u001b[39;00m JSONDecodeError \u001b[38;5;28;01mas\u001b[39;00m e:\n\u001b[0;32m    973\u001b[0m     \u001b[38;5;66;03m# Catch JSON-related errors and raise as requests.JSONDecodeError\u001b[39;00m\n\u001b[0;32m    974\u001b[0m     \u001b[38;5;66;03m# This aliases json.JSONDecodeError and simplejson.JSONDecodeError\u001b[39;00m\n\u001b[1;32m--> 975\u001b[0m     \u001b[38;5;28;01mraise\u001b[39;00m RequestsJSONDecodeError(e\u001b[38;5;241m.\u001b[39mmsg, e\u001b[38;5;241m.\u001b[39mdoc, e\u001b[38;5;241m.\u001b[39mpos)\n",
      "\u001b[1;31mJSONDecodeError\u001b[0m: Expecting value: line 1 column 1 (char 0)"
     ]
    }
   ],
   "source": [
    "# API 키\n",
    "\n",
    "\n",
    "# 요청 URL\n",
    "url = \"http://openapi.foodsafetykorea.go.kr/api/c04e1228e93f4cc4a2e3/C003/json/1/35579\"\n",
    "\n",
    "# 요청 보내기\n",
    "response = requests.get(url)\n",
    "\n",
    "# 응답 데이터(JSON) 가져오기\n",
    "data7 = response.json()\n",
    "\n",
    "# 데이터프레임 생성\n",
    "df7 = pd.DataFrame(data7['C003']['row'])\n",
    "\n",
    "# 데이터프레임 출력\n",
    "print(df7)"
   ]
  },
  {
   "cell_type": "code",
   "execution_count": 1,
   "id": "d1ee8d20",
   "metadata": {},
   "outputs": [
    {
     "name": "stdout",
     "output_type": "stream",
     "text": [
      "데이터를 불러오는 중... (1/37)\n",
      "데이터를 불러오는 중... (2/37)\n",
      "데이터를 불러오는 중... (3/37)\n",
      "데이터를 불러오는 중... (4/37)\n",
      "데이터를 불러오는 중... (5/37)\n",
      "데이터를 불러오는 중... (6/37)\n",
      "데이터를 불러오는 중... (7/37)\n",
      "데이터를 불러오는 중... (8/37)\n",
      "데이터를 불러오는 중... (9/37)\n",
      "데이터를 불러오는 중... (10/37)\n",
      "데이터를 불러오는 중... (11/37)\n",
      "데이터를 불러오는 중... (12/37)\n",
      "데이터를 불러오는 중... (13/37)\n",
      "데이터를 불러오는 중... (14/37)\n",
      "데이터를 불러오는 중... (15/37)\n",
      "데이터를 불러오는 중... (16/37)\n",
      "데이터를 불러오는 중... (17/37)\n",
      "데이터를 불러오는 중... (18/37)\n",
      "데이터를 불러오는 중... (19/37)\n",
      "데이터를 불러오는 중... (20/37)\n",
      "데이터를 불러오는 중... (21/37)\n",
      "데이터를 불러오는 중... (22/37)\n",
      "데이터를 불러오는 중... (23/37)\n",
      "데이터를 불러오는 중... (24/37)\n",
      "데이터를 불러오는 중... (25/37)\n",
      "데이터를 불러오는 중... (26/37)\n",
      "데이터를 불러오는 중... (27/37)\n",
      "데이터를 불러오는 중... (28/37)\n",
      "데이터를 불러오는 중... (29/37)\n",
      "데이터를 불러오는 중... (30/37)\n",
      "데이터를 불러오는 중... (31/37)\n",
      "데이터를 불러오는 중... (32/37)\n",
      "데이터를 불러오는 중... (33/37)\n",
      "데이터를 불러오는 중... (34/37)\n",
      "데이터를 불러오는 중... (35/37)\n",
      "데이터를 불러오는 중... (36/37)\n",
      "데이터를 불러오는 중... (37/37)\n",
      "모든 데이터를 성공적으로 불러왔습니다.\n",
      "  PRDLST_REPORT_NO SHAP   PRMS_DT LAST_UPDT_DTM PRDT_SHAP_CD_NM      LCNS_NO  \\\n",
      "0     200400150395       20040302      20150522              캡슐  20040015039   \n",
      "1     200400150396       20040302      20150522              캡슐  20040015039   \n",
      "2     200400150703       20040324      20210324              분말  20040015070   \n",
      "3     200400150704       20040324      20210324              분말  20040015070   \n",
      "4    2004001510027       20040413      20170411              캡슐  20040015100   \n",
      "\n",
      "   CRET_DTM   PRDLST_NM                                 IFTKN_ATNT_MATR_CN  \\\n",
      "0  20150522     영양칼슘비타민  물과 함께 섭취한다.1)의약품과 함께 섭취하지 마세요\\n2)특이체질 등 알러지 체질...   \n",
      "1  20150522     해조칼슘비타민  물과 함께 섭취한다.1)의약품과 함께 섭취하지 마세요\\n2)특이체질 등 알러지 체질...   \n",
      "2  20150522     지근억비피더스  (가) 질환이 있거나 의약품 복용 시 전문가와 상담할 것\\n(나) 알레르기 체질 등...   \n",
      "3  20150522  지근억비피더스베이비  (가) 질환이 있거나 의약품 복용 시 전문가와 상담할 것\\n(나) 알레르기 체질 등...   \n",
      "4  20150522    고려홍삼분말캡슐  1. 의약품(당뇨치료제, 혈액항응고제) 복용 시 섭취에 주의\\r\\n2. 제품 개봉 ...   \n",
      "\n",
      "      BSSH_NM                                          STDR_STND  \\\n",
      "0  고려인삼과학주식회사  1. 성상 : 녹색의 경질캅셀로 이미, 이취가 없어야 한다\\n2. 대장균군 : 음성...   \n",
      "1  고려인삼과학주식회사  1. 성상 : 백색의 경질캅셀로 이미, 이취가 없어야 한다\\n2. 대장균군 : 음성...   \n",
      "2      (주)비피도  1)성상 : 고유의 색택과 향미를 가지며 이미, 이취가 없어야 함\\r\\n2)프로바이...   \n",
      "3      (주)비피도  1)성상 : 고유의 색택과 향미를 가지며 이미, 이취가 없어야 함\\r\\n2)프로바이...   \n",
      "4       (주)일화  1. 성상 : 미황색의 홍삼분말이 충전된 캡슐로 이미, 이취가 없어야 함\\n2. 진...   \n",
      "\n",
      "         DISPOS                                     PRIMARY_FNCLTY POG_DAYCNT  \\\n",
      "0  불투명의 녹색 경질캅셀  ①뼈와 치아 형성에 필요②신경과 근육 기능 유지에 필요③정상적인 혈액응고에 필요④청...  제조일로부터 2년   \n",
      "1      백색의 경질캅셀  ①뼈와 치아 형성에 필요②신경과 근육 기능 유지에 필요③정상적인 혈액응고에 필요④청...  제조일로부터 2년   \n",
      "2       미황색의 분말  ①유산균 증식 ②유해균 억제 및 배변활동 원활③장건강에 도움을 줄 수 있음주된 기능...  제조일로부터 2년   \n",
      "3       미황색의 분말  ①유산균 증식 ②유해균 억제 및 배변활동 원활③장건강에 도움을 줄 수 있음주된 기능...  제조일로부터 2년   \n",
      "4      투명한 경질캡슐  ①면역력 증진②피로개선③혈소판 응집 억제를 통한 혈액흐름에 도움④기억력 개선⑤항산화...  제조일로부터 2년   \n",
      "\n",
      "                   CSTDY_MTHD                                     NTK_MTHD  \\\n",
      "0                               1일 3회, 1회2캡슐(250mg/1캡슐) 식전 또는 식후에 물과 함께 섭취   \n",
      "1                              1일 3회, 1회 2캡슐(250mg/1캡슐) 식전 또는 식후에 물과 함께 섭취   \n",
      "2  직사광선을 피하고 습기가 없는 서늘한 곳에 보관             1일 1회, 1회 1포를 식후에 물이나 음용수와 함께 섭취   \n",
      "3  직사광선을 피하고 습기가 없는 서늘한 곳에 보관             1일 1회, 1회 1포를 식후에 물이나 음용수와 함께 섭취   \n",
      "4                                                  1일 3회, 1회 3캡슐을 물과 함께 섭취   \n",
      "\n",
      "                                          RAWMTRL_NM  \n",
      "0  유청칼슘(칼슘함량20%이상), 비타민B1질산염, 비타민C(함량 100%), 판토텐산...  \n",
      "1  나이아신(함량100%), 해조칼슘(칼슘함량30%이상), 비타민B1질산염, 비타민C(...  \n",
      "2  Lactobacillus acidophilus(고시형), Bifidobacteriu...  \n",
      "3  Lactobacillusacidophilus(고시형), Bifidobacterium...  \n",
      "4            홍삼분말(진세노사이드 Rg1,Rb1 및 Rg3의 합 0.4%), 젤라틴  \n"
     ]
    }
   ],
   "source": [
    "import urllib.request\n",
    "import json\n",
    "import pandas as pd\n",
    "\n",
    "base_url = \"https://openapi.foodsafetykorea.go.kr/api/\"\n",
    "api_key = \"c04e1228e93f4cc4a2e3\"\n",
    "endpoint = \"C003/json/\"\n",
    "page_size = 1000\n",
    "total_records = 36000\n",
    "\n",
    "all_data = []\n",
    "\n",
    "total_pages = total_records // page_size + 1\n",
    "\n",
    "for page in range(1, total_pages + 1):\n",
    "    url = f\"{base_url}{api_key}/{endpoint}{page}/{page_size}\"\n",
    "    with urllib.request.urlopen(url) as response:\n",
    "        try:\n",
    "            data = response.read().decode('utf-8')\n",
    "            data = json.loads(data)\n",
    "            rows = data['C003']['row']\n",
    "            all_data.extend(rows)\n",
    "            print(f\"데이터를 불러오는 중... ({page}/{total_pages})\")\n",
    "        except json.JSONDecodeError as e:\n",
    "            print(f\"JSONDecodeError: {e}\")\n",
    "\n",
    "print(\"모든 데이터를 성공적으로 불러왔습니다.\")\n",
    "\n",
    "# 데이터프레임 생성\n",
    "df = pd.DataFrame(all_data)\n",
    "\n",
    "# 데이터프레임 출력 또는 다른 작업 수행\n",
    "print(df.head())  # 처음 5개의 행 출력"
   ]
  },
  {
   "cell_type": "code",
   "execution_count": 9,
   "id": "16bf223a",
   "metadata": {},
   "outputs": [
    {
     "data": {
      "text/plain": [
       "16821    히어로키드B1(HERO KID)(전량수출용)\n",
       "957      히어로키드B1(HERO KID)(전량수출용)\n",
       "6936     히어로키드B1(HERO KID)(전량수출용)\n",
       "1956     히어로키드B1(HERO KID)(전량수출용)\n",
       "36291    히어로키드B1(HERO KID)(전량수출용)\n",
       "                   ...           \n",
       "34255               333 프로그램 홍삼정차\n",
       "25525               333 프로그램 홍삼정차\n",
       "23574               333 프로그램 홍삼정차\n",
       "30385               333 프로그램 홍삼정차\n",
       "19660               333 프로그램 홍삼정차\n",
       "Name: PRDLST_NM, Length: 36334, dtype: object"
      ]
     },
     "execution_count": 9,
     "metadata": {},
     "output_type": "execute_result"
    }
   ],
   "source": [
    "df['PRDLST_NM'].sort_values(ascending=False)"
   ]
  }
 ],
 "metadata": {
  "kernelspec": {
   "display_name": "Python 3 (ipykernel)",
   "language": "python",
   "name": "python3"
  },
  "language_info": {
   "codemirror_mode": {
    "name": "ipython",
    "version": 3
   },
   "file_extension": ".py",
   "mimetype": "text/x-python",
   "name": "python",
   "nbconvert_exporter": "python",
   "pygments_lexer": "ipython3",
   "version": "3.11.5"
  }
 },
 "nbformat": 4,
 "nbformat_minor": 5
}
