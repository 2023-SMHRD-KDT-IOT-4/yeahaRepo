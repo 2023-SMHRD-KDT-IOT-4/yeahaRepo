{
 "cells": [
  {
   "cell_type": "code",
   "execution_count": 1,
   "id": "3f958933",
   "metadata": {},
   "outputs": [],
   "source": [
    "import pandas as pd\n",
    "pd.set_option('display.max_columns',100)\n",
    "from flask import Flask, request"
   ]
  },
  {
   "cell_type": "code",
   "execution_count": 2,
   "id": "3f30b704",
   "metadata": {},
   "outputs": [],
   "source": [
    "df_products = pd.read_json('./import_data.json')"
   ]
  },
  {
   "cell_type": "code",
   "execution_count": 3,
   "id": "ed652bdf",
   "metadata": {
    "scrolled": true
   },
   "outputs": [],
   "source": [
    "# 각 제품의 주요 기능을 분석하여 함유된 영양소를 추정\n",
    "def estimate_nutrients(product_description, keywords):\n",
    "    nutrients = {key: 0 for key in keywords}\n",
    "    for nutrient in nutrients.keys():\n",
    "        if nutrient in product_description:\n",
    "            nutrients[nutrient] += 10  # 임의의 값으로 설정\n",
    "    return nutrients\n",
    "\n",
    "# 각 제품의 추정된 영양소 함유량을 계산하여 부족한 영양소에 대한 점수 부여\n",
    "def calculate_scores(df, user_requirements, keywords):\n",
    "    scores = []\n",
    "    for index, row in df.iterrows():\n",
    "        product_name = row['prdlst_nm']\n",
    "        product_description = row['iftkn_atnt_matr_cn'] + ' ' + row['primary_fnclty']\n",
    "        estimated_nutrients = estimate_nutrients(product_description, keywords)\n",
    "        \n",
    "        # 부족한 영양소에 대한 점수 부여\n",
    "        score = 0\n",
    "        for nutrient, requirement in user_requirements.items():\n",
    "            if estimated_nutrients.get(nutrient, 0) < requirement:\n",
    "                score -= (requirement - estimated_nutrients.get(nutrient, 0))\n",
    "        scores.append((product_name, score))\n",
    "    return scores\n",
    "\n",
    "# 부족한 영양소에 따라 제품 추천\n",
    "def recommend_products(scores):\n",
    "    recommended_products = sorted(scores, key=lambda x: x[1], reverse=True)[:5]  # 상위 5개 제품 추천\n",
    "    return [product for product, _ in recommended_products]\n",
    "\n",
    "# 사용자의 질환에 따라 영양소 섭취 요구량 정의\n",
    "def get_user_requirements(disease_type):\n",
    "    if disease_type == '위궤양':\n",
    "        return {\n",
    "            '비타민A': 1000,\n",
    "            '비타민C': 1000,\n",
    "            '비타민E': 1000,\n",
    "            '아연': 1000,\n",
    "            '식이섬유': 1000\n",
    "        }\n",
    "    elif disease_type == '만성 하부 호흡기 질환':\n",
    "        return {\n",
    "            '오메가': 1000,\n",
    "            '비타민D': 1000,\n",
    "            '비타민A': 1000,\n",
    "            '아연': 1000,\n",
    "            '마그네슘': 1000\n",
    "        }\n",
    "    elif disease_type == '당뇨':\n",
    "        return {\n",
    "            '오메가': 1000,\n",
    "            '비타민D': 1000,\n",
    "            '아연': 1000,\n",
    "            '마그네슘': 1000\n",
    "        }\n",
    "    elif disease_type == '심장 질환':\n",
    "        return {\n",
    "            '비타민E': 1000,\n",
    "            '비타민D': 1000,\n",
    "            '비타민C': 1000,\n",
    "            '비타민B': 1000,\n",
    "            '아미노산': 1000,\n",
    "            '아연': 1000\n",
    "        }\n",
    "    elif disease_type == '고혈압':\n",
    "        return {\n",
    "            '칼슘': 1000,\n",
    "            '비타민D': 1000,\n",
    "            '칼륨': 1000,\n",
    "            '마그네슘': 1000\n",
    "        }\n",
    "    elif disease_type == '간질환' :\n",
    "        return {\n",
    "            '비타민E': 1000, \n",
    "            '비타민D': 1000,\n",
    "            '비타민C' : 1000,\n",
    "            '비타민B' : 1000,\n",
    "            '아미노산' : 1000,\n",
    "            '아연' : 1000\n",
    "        }\n",
    "    else:\n",
    "        return None\n",
    "\n",
    "# 질환에 따른 제품 추천\n",
    "def recommend_products_for_disease(df_products, disease_type):\n",
    "    if disease_type not in ['위궤양', '만성 하부 호흡기 질환', '당뇨', '심장 질환', '고혈압','간질환']:\n",
    "        return \"유효하지 않은 질환 유형입니다.\"\n",
    "        \n",
    "    else :\n",
    "        # 사용자의 질환에 따른 영양소 요구량 설정\n",
    "        user_requirements = get_user_requirements(disease_type)\n",
    "\n",
    "        # 영양소 키워드 설정\n",
    "        keywords = ['비타민A', '비타민C', '비타민E', '아연', '식이섬유', '오메가', '비타민D', '마그네슘', '비타민B', '아미노산', '칼슘', '칼륨']\n",
    "\n",
    "        # 점수 계산 및 제품 추천\n",
    "        scores = calculate_scores(df_products, user_requirements, keywords)\n",
    "        recommended_products = recommend_products(scores)\n",
    "\n",
    "        return recommended_products"
   ]
  },
  {
   "cell_type": "code",
   "execution_count": 4,
   "id": "bad134b7",
   "metadata": {},
   "outputs": [
    {
     "data": {
      "text/plain": [
       "['울트라비타민미네랄W', '닥터. 멀티비타민미네랄밸런스', '울트라비타민미네랄M', '포세이돈포맨', '멀티비타민미네랄 블루베리맛']"
      ]
     },
     "execution_count": 4,
     "metadata": {},
     "output_type": "execute_result"
    }
   ],
   "source": [
    "\n",
    "# 위궤양 관련 제품 추천\n",
    "recommend_products_for_disease(df_products, '위궤양 및 십이지장 질환')\n",
    "# 만성 하부 호흡기 질환 관련 제품 추천\n",
    "recommend_products_for_disease(df_products, '만성 하부 호흡기 질환')\n",
    "# 당뇨 관련 제품 추천\n",
    "recommend_products_for_disease(df_products, '당뇨')\n",
    "# 심장 질환 관련 제품 추천\n",
    "recommend_products_for_disease(df_products, '심장 질환')\n",
    "# 고혈압 관련 제품 추천\n",
    "recommend_products_for_disease(df_products, '고혈압')\n",
    "# 간질환 관련 제품 추천\n",
    "recommend_products_for_disease(df_products, '간질환')\n",
    "\n"
   ]
  },
  {
   "cell_type": "code",
   "execution_count": 5,
   "id": "a7b8ceca",
   "metadata": {
    "scrolled": true
   },
   "outputs": [
    {
     "data": {
      "text/plain": [
       "['인제칼슘포르테N비타민미네랄',\n",
       " '한빛인제칼슘포르테비타민미네랄',\n",
       " '진츄어블칼슘마그네슘아연 + 비타민D',\n",
       " '칼슘마그네슘아연+비타민C,D',\n",
       " '함소아 기린아 츄잉정']"
      ]
     },
     "execution_count": 5,
     "metadata": {},
     "output_type": "execute_result"
    }
   ],
   "source": [
    "recommend_products_for_disease(df_products, '당뇨')"
   ]
  },
  {
   "cell_type": "code",
   "execution_count": null,
   "id": "0e18a34e",
   "metadata": {},
   "outputs": [
    {
     "name": "stdout",
     "output_type": "stream",
     "text": [
      " * Serving Flask app '__main__'\n",
      " * Debug mode: off\n"
     ]
    },
    {
     "name": "stderr",
     "output_type": "stream",
     "text": [
      "WARNING: This is a development server. Do not use it in a production deployment. Use a production WSGI server instead.\n",
      " * Running on http://127.0.0.1:5005\n",
      "Press CTRL+C to quit\n",
      "127.0.0.1 - - [06/Mar/2024 16:57:10] \"GET /recommend/위궤양 HTTP/1.1\" 200 -\n",
      "127.0.0.1 - - [06/Mar/2024 17:00:05] \"GET /recommend/심장%20질환 HTTP/1.1\" 200 -\n"
     ]
    }
   ],
   "source": [
    "app = Flask(__name__)\n",
    "\n",
    "@app.route('/')\n",
    "def home():\n",
    "    return \"환영합니다! 질환 유형을 선택하여 관련 제품을 추천받으세요.\"\n",
    "# 질환 관련 제품 추천 라우트\n",
    "@app.route('/recommend/<disease_type>')\n",
    "def recommend_products_for_disease_route(disease_type):\n",
    "    global df_products\n",
    "    df_products = pd.read_json('./import_data.json')\n",
    "    # 질환 유형에 따른 제품 추천\n",
    "    recommended_products = recommend_products_for_disease(df_products, disease_type)\n",
    "    # 추천된 제품을 문자열 리스트로 반환\n",
    "    recommendations = [f\"{disease_type} 관련 추천된 제품:<br>\"]\n",
    "    for product in recommended_products:\n",
    "        recommendations.append(f\"{product}<br>\")\n",
    "    \n",
    "    # 추천된 제품을 텍스트 형식으로 반환\n",
    "    return '<br>'.join(recommendations)\n",
    "\n",
    "\n",
    "if __name__ == '__main__':\n",
    "    app.run(port=5005)"
   ]
  },
  {
   "cell_type": "code",
   "execution_count": null,
   "id": "3308106f",
   "metadata": {},
   "outputs": [],
   "source": []
  }
 ],
 "metadata": {
  "kernelspec": {
   "display_name": "Python 3 (ipykernel)",
   "language": "python",
   "name": "python3"
  },
  "language_info": {
   "codemirror_mode": {
    "name": "ipython",
    "version": 3
   },
   "file_extension": ".py",
   "mimetype": "text/x-python",
   "name": "python",
   "nbconvert_exporter": "python",
   "pygments_lexer": "ipython3",
   "version": "3.11.5"
  }
 },
 "nbformat": 4,
 "nbformat_minor": 5
}
